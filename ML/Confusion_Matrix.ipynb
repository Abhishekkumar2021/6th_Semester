{
 "cells": [
  {
   "attachments": {},
   "cell_type": "markdown",
   "metadata": {},
   "source": [
    "### Confusion matrix \n",
    "\n",
    "Confusion matrix is a table that is often used to describe the performance of a classification model (or \"classifier\") on a set of test data for which the true values are known.\n",
    "\n",
    "The confusion matrix itself is relatively simple to understand, but the related terminology can be confusing.\n",
    "- True Positives (TP): These are cases in which we predicted yes (they have the disease), and they do have the disease.\n",
    "- True Negatives (TN): We predicted no, and they don't have the disease.\n",
    "- False Positives (FP): We predicted yes, but they don't actually have the disease. (Also known as a \"Type I error.\")\n",
    "- False Negatives (FN): We predicted no, but they actually do have the disease. (Also known as a \"Type II error.\")\n",
    "\n",
    "### Confusion matrix in scikit-learn\n",
    "\n",
    "Example for \n",
    "\n",
    "$ | T | F |\n",
    "---|---|---|\n",
    "T  |  |  |\n",
    "F  |  |  |"
   ]
  },
  {
   "cell_type": "code",
   "execution_count": null,
   "metadata": {},
   "outputs": [],
   "source": []
  }
 ],
 "metadata": {
  "language_info": {
   "name": "python"
  },
  "orig_nbformat": 4
 },
 "nbformat": 4,
 "nbformat_minor": 2
}
