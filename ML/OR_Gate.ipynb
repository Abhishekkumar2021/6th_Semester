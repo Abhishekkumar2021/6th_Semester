{
 "cells": [
  {
   "attachments": {},
   "cell_type": "markdown",
   "metadata": {},
   "source": [
    "### learning an OR gate using a perceptron model with a single neuron\n",
    "\n",
    "#### OR Gate\n",
    "x | y | z\n",
    "--- | --- | ---\n",
    "0 | 0 | 0\n",
    "0 | 1 | 1\n",
    "1 | 0 | 1\n",
    "1 | 1 | 1\n",
    "\n",
    "#### Perceptron Model\n",
    "$$\n",
    "\\begin{align}\n",
    "\\hat{y} &= \\begin{cases}\n",
    "1 & \\text{if } \\sum_{i=1}^n w_ix_i + b > 0 \\\\\n",
    "0 & \\text{otherwise}\n",
    "\\end{cases} \\\\\n",
    "\\end{align}\n",
    "$$\n",
    "\n",
    "#### Training\n",
    "$$\n",
    "\\begin{align}\n",
    "\\text{loss} &= \\frac{1}{2}(\\hat{y} - y)^2 \\\\\n",
    "\\frac{\\partial \\text{loss}}{\\partial w_i} &= (\\hat{y} - y) \\frac{\\partial \\hat{y}}{\\partial w_i} \\\\\n",
    "&= (\\hat{y} - y) x_i \\\\\n",
    "\\frac{\\partial \\text{loss}}{\\partial b} &= (\\hat{y} - y) \\frac{\\partial \\hat{y}}{\\partial b} \\\\\n",
    "&= (\\hat{y} - y) \\\\\n",
    "\\end{align}\n",
    "$$\n",
    "\n",
    "#### Update\n",
    "$$\n",
    "\\begin{align}\n",
    "w_i &= w_i - \\alpha (\\hat{y} - y) x_i \\\\\n",
    "b &= b - \\alpha (\\hat{y} - y) \\\\\n",
    "\\end{align}\n",
    "$$\n",
    "\n",
    "#### Initialization\n",
    "$$\n",
    "\\begin{align}\n",
    "w_i &= 0 \\\\\n",
    "b &= 0 \\\\\n",
    "\\end{align}\n",
    "$$\n",
    "\n",
    "#### Training Loop\n",
    "$$\n",
    "\\begin{align}\n",
    "\\text{for } \\text{epoch} \\in \\text{range(epochs)} \\\\\n",
    "\\text{for } (x, y) \\in \\text{zip(X, Y)} \\\\\n",
    "\\hat{y} &= \\sum_{i=1}^n w_ix_i + b \\\\\n",
    "\\text{loss} &= \\frac{1}{2}(\\hat{y} - y)^2 \\\\\n",
    "w_i &= w_i - \\alpha (\\hat{y} - y) x_i \\\\\n",
    "b &= b - \\alpha (\\hat{y} - y) \\\\\n",
    "\\end{align}\n",
    "$$\n",
    "\n",
    "#### Prediction\n",
    "$$\n",
    "\\begin{align}\n",
    "\\hat{y} &= \\begin{cases}\n",
    "1 & \\text{if } \\sum_{i=1}^n w_ix_i + b > 0 \\\\\n",
    "0 & \\text{otherwise}\n",
    "\\end{cases} \\\\\n",
    "\\end{align}\n",
    "\n",
    "\n",
    "\n",
    "\n",
    "\n"
   ]
  },
  {
   "cell_type": "code",
   "execution_count": 1,
   "metadata": {},
   "outputs": [],
   "source": [
    "import numpy as np\n",
    "import matplotlib.pyplot as plt\n",
    "import seaborn as sns\n",
    "sns.set()"
   ]
  },
  {
   "cell_type": "code",
   "execution_count": 9,
   "metadata": {},
   "outputs": [],
   "source": [
    "class Perceptron:\n",
    "    def __init__(self, alpha = 0.1, epochs = 100):\n",
    "        self.alpha = alpha\n",
    "        self.epochs = epochs\n",
    "        self.bias = 0\n",
    "        self.weights = None\n",
    "        self.misclassified = None\n",
    "        \n",
    "    def fit(self, X, y):\n",
    "        self.weights = np.zeros(X.shape[1])\n",
    "        self.misclassified = []\n",
    "        \n",
    "        for _ in range(self.epochs):\n",
    "            misclassified = 0\n",
    "            for xi, target in zip(X, y):\n",
    "                update = self.alpha * (target - self.predict(xi))\n",
    "                self.weights += update * xi\n",
    "                self.bias += update\n",
    "                misclassified += int(update != 0.0)\n",
    "            self.misclassified.append(misclassified)\n",
    "        return self\n",
    "    \n",
    "    def net_input(self, X):\n",
    "        return np.dot(X, self.weights) + self.bias\n",
    "    \n",
    "    def predict(self, X):\n",
    "        return np.where(self.net_input(X) >= 0.0, 1, 0)\n",
    "    \n",
    "    def plot_misclassified(self):\n",
    "        plt.plot(range(1, len(self.misclassified) + 1), self.misclassified, marker = 'o')\n",
    "        plt.xlabel('Epochs')\n",
    "        plt.ylabel('Number of misclassified')\n",
    "        plt.show()"
   ]
  },
  {
   "attachments": {},
   "cell_type": "markdown",
   "metadata": {},
   "source": [
    "Our Perceptron model is a single neuron with a single output. The output is a binary value, 0 or 1. The input is a vector of values, $x_1, x_2, \\dots, x_n$. The weights are also a vector of values, $w_1, w_2, \\dots, w_n$. The bias is a single value, $b$. The output is calculated as follows:\n",
    "\n",
    "$$\n",
    "\\begin{align}\n",
    "\\hat{y} &= \\begin{cases}\n",
    "1 & \\text{if } \\sum_{i=1}^n w_ix_i + b > 0 \\\\\n",
    "0 & \\text{otherwise}\n",
    "\\end{cases} \\\\\n",
    "\\end{align}\n",
    "$$\n"
   ]
  },
  {
   "cell_type": "code",
   "execution_count": 10,
   "metadata": {},
   "outputs": [
    {
     "data": {
      "image/png": "[encoded data removed]",
      "text/plain": [
       "<Figure size 640x480 with 1 Axes>"
      ]
     },
     "metadata": {},
     "output_type": "display_data"
    }
   ],
   "source": [
    "perceptron = Perceptron(epochs = 10)\n",
    "\n",
    "# learning an OR gate\n",
    "X = np.array([[0, 0], [0, 1], [1, 0], [1, 1]])\n",
    "y = np.array([0, 1, 1, 1])\n",
    "\n",
    "perceptron.fit(X, y)\n",
    "perceptron.plot_misclassified()\n",
    "\n"
   ]
  }
 ],
 "metadata": {
  "kernelspec": {
   "display_name": "Python 3",
   "language": "python",
   "name": "python3"
  },
  "language_info": {
   "codemirror_mode": {
    "name": "ipython",
    "version": 3
   },
   "file_extension": ".py",
   "mimetype": "text/x-python",
   "name": "python",
   "nbconvert_exporter": "python",
   "pygments_lexer": "ipython3",
   "version": "3.10.6"
  },
  "orig_nbformat": 4
 },
 "nbformat": 4,
 "nbformat_minor": 2
}
