{
 "cells": [
  {
   "cell_type": "code",
   "execution_count": 1,
   "metadata": {},
   "outputs": [],
   "source": [
    "import numpy as np\n",
    "import matplotlib.pyplot as plt\n",
    "import seaborn as sns\n",
    "sns.set()"
   ]
  },
  {
   "cell_type": "code",
   "execution_count": 11,
   "metadata": {},
   "outputs": [],
   "source": [
    "class Perceptron:\n",
    "    def __init__(self, alpha = 0.1, epochs = 100):\n",
    "        self.alpha = alpha\n",
    "        self.epochs = epochs\n",
    "        self.bias = 0\n",
    "        self.weights = None\n",
    "        self.misclassified = None\n",
    "        \n",
    "    def fit(self, X, y):\n",
    "        self.weights = np.zeros(X.shape[1])\n",
    "        self.misclassified = []\n",
    "        \n",
    "        for _ in range(self.epochs):\n",
    "            misclassified = 0\n",
    "            for xi, target in zip(X, y):\n",
    "                update = self.alpha * (target - self.predict(xi))\n",
    "                self.weights += update * xi\n",
    "                self.bias += update\n",
    "                misclassified += int(update != 0.0)\n",
    "            self.misclassified.append(misclassified)\n",
    "        return self\n",
    "    \n",
    "    def net_input(self, X):\n",
    "        return np.dot(X, self.weights) + self.bias\n",
    "    \n",
    "    def predict(self, X):\n",
    "        return np.where(self.net_input(X) >= 0.0, 1, 0)\n",
    "    \n",
    "    def plot_misclassified(self):\n",
    "        plt.plot(range(1, len(self.misclassified) + 1), self.misclassified, marker = 'o')\n",
    "        plt.xlabel('Epochs')\n",
    "        plt.ylabel('Number of misclassified')\n",
    "        plt.show()\n",
    "        \n",
    "    def accuracy(self, X, y):\n",
    "        return np.sum(self.predict(X) == y) / len(y)"
   ]
  },
  {
   "attachments": {},
   "cell_type": "markdown",
   "metadata": {},
   "source": [
    "XOR Gate:\n",
    "\n",
    "x | y | z\n",
    "---|---|---\n",
    "0 | 0 | 0\n",
    "0 | 1 | 1\n",
    "1 | 0 | 1\n",
    "1 | 1 | 0\n",
    "\n",
    "The XOR gate is a logical gate that outputs a 1 if the number of 1s in the input is odd, and 0 otherwise. It is the only logical gate that does not have a linear decision boundary. The XOR gate is a non linear gate i.e it cannot be represented by a single line. It can be represented by a circle or a curve.\n",
    "\n",
    "As it is a non linear gate, we cannot use a single perceptron to represent it. We need to use a neural network to represent it.\n",
    "\n",
    "The number of neurons in the input layer is equal to the number of features in the data and in very rare cases, there will be one input layer for bias. Whereas the number of neurons in the output depends on whether is the model is used as a regressor or classifier. If the model is a regressor then the output layer will have only a single neuron but in case if the model is a classifier it will have a single neuron or multiple neurons depending on the class label of the model.\n",
    "Here in this case we have two input features and one output feature. So the input layer will have two neurons and the output layer will have one neuron.\n",
    "\n",
    "The number of neurons in the hidden layer depends on the complexity of the data. If the data is linearly separable then the hidden layer will have only one neuron. But if the data is non linearly separable then the hidden layer will have more than one neuron. The number of neurons in the hidden layer is a hyperparameter and it is not easy to find the optimal number of neurons in the hidden layer. The number of neurons in the hidden layer is usually between 2 and 10.\n",
    "\n",
    "There are many rule-of-thumb methods for determining the correct number of neurons to use in the hidden layers, such as the following:\n",
    "\n",
    "- The number of hidden neurons should be between the size of the input layer and the size of the output layer.\n",
    "- The number of hidden neurons should be 2/3 the size of the input layer, plus the size of the output layer.\n",
    "- The number of hidden neurons should be less than twice the size of the input layer.\n"
   ]
  },
  {
   "cell_type": "code",
   "execution_count": 12,
   "metadata": {},
   "outputs": [
    {
     "data": {
      "image/png": "[encoded data removed]",
      "text/plain": [
       "<Figure size 640x480 with 1 Axes>"
      ]
     },
     "metadata": {},
     "output_type": "display_data"
    },
    {
     "name": "stdout",
     "output_type": "stream",
     "text": [
      "Accuracy:  0.5\n"
     ]
    }
   ],
   "source": [
    "# Implementation of XOR gate using Perceptron\n",
    "X = np.array([[0, 0], [0, 1], [1, 0], [1, 1]])\n",
    "y = np.array([0, 1, 1, 0])\n",
    "\n",
    "ppn = Perceptron(alpha=0.01, epochs=10)\n",
    "ppn.fit(X, y)\n",
    "\n",
    "ppn.plot_misclassified()\n",
    "\n",
    "# Predicting the output\n",
    "print(\"Accuracy: \", ppn.accuracy(X, y))\n"
   ]
  },
  {
   "attachments": {},
   "cell_type": "markdown",
   "metadata": {},
   "source": []
  }
 ],
 "metadata": {
  "kernelspec": {
   "display_name": "Python 3",
   "language": "python",
   "name": "python3"
  },
  "language_info": {
   "codemirror_mode": {
    "name": "ipython",
    "version": 3
   },
   "file_extension": ".py",
   "mimetype": "text/x-python",
   "name": "python",
   "nbconvert_exporter": "python",
   "pygments_lexer": "ipython3",
   "version": "3.10.6"
  },
  "orig_nbformat": 4
 },
 "nbformat": 4,
 "nbformat_minor": 2
}
